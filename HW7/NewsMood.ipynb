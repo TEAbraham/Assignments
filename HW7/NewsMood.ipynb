{
 "cells": [
  {
   "cell_type": "code",
   "execution_count": null,
   "metadata": {},
   "outputs": [],
   "source": [
    "# Dependencies\n",
    "import tweepy\n",
    "import numpy as np\n",
    "import pandas as pd\n",
    "import datetime as dt\n",
    "import time\n",
    "import matplotlib.pyplot as plt\n",
    "from matplotlib import style\n",
    "import seaborn as sns\n",
    "style.use('ggplot')\n",
    "import imp\n",
    "api=imp.load_source('api','/Users/thomas/Desktop/Boot Camp/Keys/api.py')\n",
    "\n",
    "# Import and Initialize Sentiment Analyzer\n",
    "from vaderSentiment.vaderSentiment import SentimentIntensityAnalyzer\n",
    "analyzer = SentimentIntensityAnalyzer()\n",
    "\n",
    "# Twitter API Keys\n",
    "from api import (consumer_key, \n",
    "                    consumer_secret, \n",
    "                    access_token, \n",
    "                    access_token_secret)\n",
    "\n",
    "# Setup Tweepy API Authentication\n",
    "auth = tweepy.OAuthHandler(consumer_key, consumer_secret)\n",
    "auth.set_access_token(access_token, access_token_secret)\n",
    "api = tweepy.API(auth, parser=tweepy.parsers.JSONParser())"
   ]
  },
  {
   "cell_type": "code",
   "execution_count": null,
   "metadata": {},
   "outputs": [],
   "source": [
    "# Target Account\n",
    "targets = [\"@BBCBreaking\",\"@CBSNews\",\"@cnnbrk\",\"@FoxNews\",\"@nytimes\"]\n",
    "sent = []\n",
    "\n",
    "for target in targets:\n",
    "    \n",
    "    counter = 1\n",
    "\n",
    "\n",
    "    for x in range(5):\n",
    "\n",
    "    \n",
    "        public_tweets = api.user_timeline(target, page=x)\n",
    "\n",
    "    \n",
    "        for tweet in public_tweets:\n",
    "\n",
    "        \n",
    "            compound = analyzer.polarity_scores(tweet[\"text\"])[\"compound\"]\n",
    "            pos = analyzer.polarity_scores(tweet[\"text\"])[\"pos\"]\n",
    "            neu = analyzer.polarity_scores(tweet[\"text\"])[\"neu\"]\n",
    "            neg = analyzer.polarity_scores(tweet[\"text\"])[\"neg\"]\n",
    "            tweets_ago = counter\n",
    "        \n",
    "        \n",
    "            sent.append({\"Source\": target,\n",
    "                            \"Date\": tweet[\"created_at\"], \n",
    "                           \"Compound\": compound,\n",
    "                           \"Positive\": pos,\n",
    "                           \"Negative\": neu,\n",
    "                           \"Neutral\": neg,\n",
    "                           \"Tweets Ago\": counter})\n",
    "        \n",
    " \n",
    "            counter = counter + 1\n",
    "\n",
    "newsmood=pd.DataFrame(data=sent)"
   ]
  },
  {
   "cell_type": "code",
   "execution_count": null,
   "metadata": {},
   "outputs": [],
   "source": [
    "source=['BBC', 'CBS', 'CNN', 'Fox', 'New York times']\n",
    "color=['lightblue','green','red','blue','yellow']\n",
    "\n",
    "sns.set()\n",
    "fig = plt.subplots()\n",
    "for x in range(5):\n",
    "    \n",
    "    sns.regplot(x='Tweets Ago', y='Compound', data=newsmood.loc[newsmood['Source']==targets[x]], fit_reg=False, color=color[x], marker='o',scatter_kws={'s':25})\n",
    "\n",
    "\n",
    "#fig.legends=source\n",
    "plt.title(f\"Sentiment Analysis of Media Tweets for {dt.date.today()}\")\n",
    "plt.ylabel(\"Tweet Polarity\")\n",
    "plt.xlabel(\"Tweets Ago\")\n",
    "plt.ylim(-1,1)\n",
    "plt.xlim(105,-5)\n",
    "\n",
    "plt.show()\n",
    " \n",
    "plt.savefig(\"SentimentAnalysis.png\")"
   ]
  },
  {
   "cell_type": "code",
   "execution_count": null,
   "metadata": {},
   "outputs": [],
   "source": []
  },
  {
   "cell_type": "code",
   "execution_count": null,
   "metadata": {},
   "outputs": [],
   "source": []
  }
 ],
 "metadata": {
  "kernelspec": {
   "display_name": "Python 3",
   "language": "python",
   "name": "python3"
  },
  "language_info": {
   "codemirror_mode": {
    "name": "ipython",
    "version": 3
   },
   "file_extension": ".py",
   "mimetype": "text/x-python",
   "name": "python",
   "nbconvert_exporter": "python",
   "pygments_lexer": "ipython3",
   "version": "3.6.4"
  }
 },
 "nbformat": 4,
 "nbformat_minor": 2
}
